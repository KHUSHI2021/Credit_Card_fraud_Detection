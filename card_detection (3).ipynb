{
  "metadata": {
    "kernelspec": {
      "name": "python",
      "display_name": "Python (Pyodide)",
      "language": "python"
    },
    "language_info": {
      "codemirror_mode": {
        "name": "python",
        "version": 3
      },
      "file_extension": ".py",
      "mimetype": "text/x-python",
      "name": "python",
      "nbconvert_exporter": "python",
      "pygments_lexer": "ipython3",
      "version": "3.8"
    }
  },
  "nbformat_minor": 5,
  "nbformat": 4,
  "cells": [
    {
      "id": "930aff7c-58e1-4f4c-90fd-8585744e1ca1",
      "cell_type": "code",
      "source": "# import all dependencies \nimport numpy as np\nimport pandas as pd\nfrom sklearn.model_selection import train_test_split\nfrom sklearn.preprocessing import StandardScaler\nfrom sklearn.linear_model import LogisticRegression \nfrom sklearn.pipeline import make_pipeline\nfrom sklearn.metrics import accuracy_score",
      "metadata": {
        "trusted": true
      },
      "outputs": [],
      "execution_count": 1
    },
    {
      "id": "e67ba022-361e-4efe-8b81-114479355fcb",
      "cell_type": "code",
      "source": "# loading dataset to the pandas data frame\ncredit_card_data = pd.read_csv('creditcard.csv')\n",
      "metadata": {
        "trusted": true
      },
      "outputs": [],
      "execution_count": 31
    },
    {
      "id": "fb34a33f-0a87-4f17-8376-2ad2697d5b94",
      "cell_type": "code",
      "source": "# 1st five rows od dataset\ncredit_card_data.head()",
      "metadata": {
        "trusted": true
      },
      "outputs": [
        {
          "execution_count": 32,
          "output_type": "execute_result",
          "data": {
            "text/plain": "   Time        V1        V2        V3        V4        V5        V6        V7  \\\n0   0.0 -1.359807 -0.072781  2.536347  1.378155 -0.338321  0.462388  0.239599   \n1   0.0  1.191857  0.266151  0.166480  0.448154  0.060018 -0.082361 -0.078803   \n2   1.0 -1.358354 -1.340163  1.773209  0.379780 -0.503198  1.800499  0.791461   \n3   1.0 -0.966272 -0.185226  1.792993 -0.863291 -0.010309  1.247203  0.237609   \n4   2.0 -1.158233  0.877737  1.548718  0.403034 -0.407193  0.095921  0.592941   \n\n         V8        V9  ...       V21       V22       V23       V24       V25  \\\n0  0.098698  0.363787  ... -0.018307  0.277838 -0.110474  0.066928  0.128539   \n1  0.085102 -0.255425  ... -0.225775 -0.638672  0.101288 -0.339846  0.167170   \n2  0.247676 -1.514654  ...  0.247998  0.771679  0.909412 -0.689281 -0.327642   \n3  0.377436 -1.387024  ... -0.108300  0.005274 -0.190321 -1.175575  0.647376   \n4 -0.270533  0.817739  ... -0.009431  0.798278 -0.137458  0.141267 -0.206010   \n\n        V26       V27       V28  Amount  Class  \n0 -0.189115  0.133558 -0.021053  149.62      0  \n1  0.125895 -0.008983  0.014724    2.69      0  \n2 -0.139097 -0.055353 -0.059752  378.66      0  \n3 -0.221929  0.062723  0.061458  123.50      0  \n4  0.502292  0.219422  0.215153   69.99      0  \n\n[5 rows x 31 columns]",
            "text/html": "<div>\n<style scoped>\n    .dataframe tbody tr th:only-of-type {\n        vertical-align: middle;\n    }\n\n    .dataframe tbody tr th {\n        vertical-align: top;\n    }\n\n    .dataframe thead th {\n        text-align: right;\n    }\n</style>\n<table border=\"1\" class=\"dataframe\">\n  <thead>\n    <tr style=\"text-align: right;\">\n      <th></th>\n      <th>Time</th>\n      <th>V1</th>\n      <th>V2</th>\n      <th>V3</th>\n      <th>V4</th>\n      <th>V5</th>\n      <th>V6</th>\n      <th>V7</th>\n      <th>V8</th>\n      <th>V9</th>\n      <th>...</th>\n      <th>V21</th>\n      <th>V22</th>\n      <th>V23</th>\n      <th>V24</th>\n      <th>V25</th>\n      <th>V26</th>\n      <th>V27</th>\n      <th>V28</th>\n      <th>Amount</th>\n      <th>Class</th>\n    </tr>\n  </thead>\n  <tbody>\n    <tr>\n      <th>0</th>\n      <td>0.0</td>\n      <td>-1.359807</td>\n      <td>-0.072781</td>\n      <td>2.536347</td>\n      <td>1.378155</td>\n      <td>-0.338321</td>\n      <td>0.462388</td>\n      <td>0.239599</td>\n      <td>0.098698</td>\n      <td>0.363787</td>\n      <td>...</td>\n      <td>-0.018307</td>\n      <td>0.277838</td>\n      <td>-0.110474</td>\n      <td>0.066928</td>\n      <td>0.128539</td>\n      <td>-0.189115</td>\n      <td>0.133558</td>\n      <td>-0.021053</td>\n      <td>149.62</td>\n      <td>0</td>\n    </tr>\n    <tr>\n      <th>1</th>\n      <td>0.0</td>\n      <td>1.191857</td>\n      <td>0.266151</td>\n      <td>0.166480</td>\n      <td>0.448154</td>\n      <td>0.060018</td>\n      <td>-0.082361</td>\n      <td>-0.078803</td>\n      <td>0.085102</td>\n      <td>-0.255425</td>\n      <td>...</td>\n      <td>-0.225775</td>\n      <td>-0.638672</td>\n      <td>0.101288</td>\n      <td>-0.339846</td>\n      <td>0.167170</td>\n      <td>0.125895</td>\n      <td>-0.008983</td>\n      <td>0.014724</td>\n      <td>2.69</td>\n      <td>0</td>\n    </tr>\n    <tr>\n      <th>2</th>\n      <td>1.0</td>\n      <td>-1.358354</td>\n      <td>-1.340163</td>\n      <td>1.773209</td>\n      <td>0.379780</td>\n      <td>-0.503198</td>\n      <td>1.800499</td>\n      <td>0.791461</td>\n      <td>0.247676</td>\n      <td>-1.514654</td>\n      <td>...</td>\n      <td>0.247998</td>\n      <td>0.771679</td>\n      <td>0.909412</td>\n      <td>-0.689281</td>\n      <td>-0.327642</td>\n      <td>-0.139097</td>\n      <td>-0.055353</td>\n      <td>-0.059752</td>\n      <td>378.66</td>\n      <td>0</td>\n    </tr>\n    <tr>\n      <th>3</th>\n      <td>1.0</td>\n      <td>-0.966272</td>\n      <td>-0.185226</td>\n      <td>1.792993</td>\n      <td>-0.863291</td>\n      <td>-0.010309</td>\n      <td>1.247203</td>\n      <td>0.237609</td>\n      <td>0.377436</td>\n      <td>-1.387024</td>\n      <td>...</td>\n      <td>-0.108300</td>\n      <td>0.005274</td>\n      <td>-0.190321</td>\n      <td>-1.175575</td>\n      <td>0.647376</td>\n      <td>-0.221929</td>\n      <td>0.062723</td>\n      <td>0.061458</td>\n      <td>123.50</td>\n      <td>0</td>\n    </tr>\n    <tr>\n      <th>4</th>\n      <td>2.0</td>\n      <td>-1.158233</td>\n      <td>0.877737</td>\n      <td>1.548718</td>\n      <td>0.403034</td>\n      <td>-0.407193</td>\n      <td>0.095921</td>\n      <td>0.592941</td>\n      <td>-0.270533</td>\n      <td>0.817739</td>\n      <td>...</td>\n      <td>-0.009431</td>\n      <td>0.798278</td>\n      <td>-0.137458</td>\n      <td>0.141267</td>\n      <td>-0.206010</td>\n      <td>0.502292</td>\n      <td>0.219422</td>\n      <td>0.215153</td>\n      <td>69.99</td>\n      <td>0</td>\n    </tr>\n  </tbody>\n</table>\n<p>5 rows × 31 columns</p>\n</div>"
          },
          "metadata": {}
        }
      ],
      "execution_count": 32
    },
    {
      "id": "fc80ab77-3c73-4640-9b76-07d99008fd16",
      "cell_type": "code",
      "source": "credit_card_data.tail()",
      "metadata": {
        "trusted": true
      },
      "outputs": [
        {
          "execution_count": 33,
          "output_type": "execute_result",
          "data": {
            "text/plain": "            Time         V1         V2        V3        V4        V5  \\\n284802  172786.0 -11.881118  10.071785 -9.834783 -2.066656 -5.364473   \n284803  172787.0  -0.732789  -0.055080  2.035030 -0.738589  0.868229   \n284804  172788.0   1.919565  -0.301254 -3.249640 -0.557828  2.630515   \n284805  172788.0  -0.240440   0.530483  0.702510  0.689799 -0.377961   \n284806  172792.0  -0.533413  -0.189733  0.703337 -0.506271 -0.012546   \n\n              V6        V7        V8        V9  ...       V21       V22  \\\n284802 -2.606837 -4.918215  7.305334  1.914428  ...  0.213454  0.111864   \n284803  1.058415  0.024330  0.294869  0.584800  ...  0.214205  0.924384   \n284804  3.031260 -0.296827  0.708417  0.432454  ...  0.232045  0.578229   \n284805  0.623708 -0.686180  0.679145  0.392087  ...  0.265245  0.800049   \n284806 -0.649617  1.577006 -0.414650  0.486180  ...  0.261057  0.643078   \n\n             V23       V24       V25       V26       V27       V28  Amount  \\\n284802  1.014480 -0.509348  1.436807  0.250034  0.943651  0.823731    0.77   \n284803  0.012463 -1.016226 -0.606624 -0.395255  0.068472 -0.053527   24.79   \n284804 -0.037501  0.640134  0.265745 -0.087371  0.004455 -0.026561   67.88   \n284805 -0.163298  0.123205 -0.569159  0.546668  0.108821  0.104533   10.00   \n284806  0.376777  0.008797 -0.473649 -0.818267 -0.002415  0.013649  217.00   \n\n        Class  \n284802      0  \n284803      0  \n284804      0  \n284805      0  \n284806      0  \n\n[5 rows x 31 columns]",
            "text/html": "<div>\n<style scoped>\n    .dataframe tbody tr th:only-of-type {\n        vertical-align: middle;\n    }\n\n    .dataframe tbody tr th {\n        vertical-align: top;\n    }\n\n    .dataframe thead th {\n        text-align: right;\n    }\n</style>\n<table border=\"1\" class=\"dataframe\">\n  <thead>\n    <tr style=\"text-align: right;\">\n      <th></th>\n      <th>Time</th>\n      <th>V1</th>\n      <th>V2</th>\n      <th>V3</th>\n      <th>V4</th>\n      <th>V5</th>\n      <th>V6</th>\n      <th>V7</th>\n      <th>V8</th>\n      <th>V9</th>\n      <th>...</th>\n      <th>V21</th>\n      <th>V22</th>\n      <th>V23</th>\n      <th>V24</th>\n      <th>V25</th>\n      <th>V26</th>\n      <th>V27</th>\n      <th>V28</th>\n      <th>Amount</th>\n      <th>Class</th>\n    </tr>\n  </thead>\n  <tbody>\n    <tr>\n      <th>284802</th>\n      <td>172786.0</td>\n      <td>-11.881118</td>\n      <td>10.071785</td>\n      <td>-9.834783</td>\n      <td>-2.066656</td>\n      <td>-5.364473</td>\n      <td>-2.606837</td>\n      <td>-4.918215</td>\n      <td>7.305334</td>\n      <td>1.914428</td>\n      <td>...</td>\n      <td>0.213454</td>\n      <td>0.111864</td>\n      <td>1.014480</td>\n      <td>-0.509348</td>\n      <td>1.436807</td>\n      <td>0.250034</td>\n      <td>0.943651</td>\n      <td>0.823731</td>\n      <td>0.77</td>\n      <td>0</td>\n    </tr>\n    <tr>\n      <th>284803</th>\n      <td>172787.0</td>\n      <td>-0.732789</td>\n      <td>-0.055080</td>\n      <td>2.035030</td>\n      <td>-0.738589</td>\n      <td>0.868229</td>\n      <td>1.058415</td>\n      <td>0.024330</td>\n      <td>0.294869</td>\n      <td>0.584800</td>\n      <td>...</td>\n      <td>0.214205</td>\n      <td>0.924384</td>\n      <td>0.012463</td>\n      <td>-1.016226</td>\n      <td>-0.606624</td>\n      <td>-0.395255</td>\n      <td>0.068472</td>\n      <td>-0.053527</td>\n      <td>24.79</td>\n      <td>0</td>\n    </tr>\n    <tr>\n      <th>284804</th>\n      <td>172788.0</td>\n      <td>1.919565</td>\n      <td>-0.301254</td>\n      <td>-3.249640</td>\n      <td>-0.557828</td>\n      <td>2.630515</td>\n      <td>3.031260</td>\n      <td>-0.296827</td>\n      <td>0.708417</td>\n      <td>0.432454</td>\n      <td>...</td>\n      <td>0.232045</td>\n      <td>0.578229</td>\n      <td>-0.037501</td>\n      <td>0.640134</td>\n      <td>0.265745</td>\n      <td>-0.087371</td>\n      <td>0.004455</td>\n      <td>-0.026561</td>\n      <td>67.88</td>\n      <td>0</td>\n    </tr>\n    <tr>\n      <th>284805</th>\n      <td>172788.0</td>\n      <td>-0.240440</td>\n      <td>0.530483</td>\n      <td>0.702510</td>\n      <td>0.689799</td>\n      <td>-0.377961</td>\n      <td>0.623708</td>\n      <td>-0.686180</td>\n      <td>0.679145</td>\n      <td>0.392087</td>\n      <td>...</td>\n      <td>0.265245</td>\n      <td>0.800049</td>\n      <td>-0.163298</td>\n      <td>0.123205</td>\n      <td>-0.569159</td>\n      <td>0.546668</td>\n      <td>0.108821</td>\n      <td>0.104533</td>\n      <td>10.00</td>\n      <td>0</td>\n    </tr>\n    <tr>\n      <th>284806</th>\n      <td>172792.0</td>\n      <td>-0.533413</td>\n      <td>-0.189733</td>\n      <td>0.703337</td>\n      <td>-0.506271</td>\n      <td>-0.012546</td>\n      <td>-0.649617</td>\n      <td>1.577006</td>\n      <td>-0.414650</td>\n      <td>0.486180</td>\n      <td>...</td>\n      <td>0.261057</td>\n      <td>0.643078</td>\n      <td>0.376777</td>\n      <td>0.008797</td>\n      <td>-0.473649</td>\n      <td>-0.818267</td>\n      <td>-0.002415</td>\n      <td>0.013649</td>\n      <td>217.00</td>\n      <td>0</td>\n    </tr>\n  </tbody>\n</table>\n<p>5 rows × 31 columns</p>\n</div>"
          },
          "metadata": {}
        }
      ],
      "execution_count": 33
    },
    {
      "id": "317b55bb-94ac-41aa-994b-b9064714877f",
      "cell_type": "code",
      "source": "credit_card_data['Class'].value_counts()",
      "metadata": {
        "trusted": true
      },
      "outputs": [
        {
          "execution_count": 34,
          "output_type": "execute_result",
          "data": {
            "text/plain": "Class\n0    284315\n1       492\nName: count, dtype: int64"
          },
          "metadata": {}
        }
      ],
      "execution_count": 34
    },
    {
      "id": "94ff601e-bf24-4d03-b4d8-e6322a41ae3e",
      "cell_type": "code",
      "source": "credit_card_data['Amount'].sum()",
      "metadata": {
        "trusted": true
      },
      "outputs": [
        {
          "execution_count": 35,
          "output_type": "execute_result",
          "data": {
            "text/plain": "np.float64(25162590.009999998)"
          },
          "metadata": {}
        }
      ],
      "execution_count": 35
    },
    {
      "id": "cf14bbb0-c732-4f0a-89bf-7b6cde565a91",
      "cell_type": "code",
      "source": "#separating the data for analysis\nlegit=credit_card_data[credit_card_data.Class==0]\nfraud=credit_card_data[credit_card_data.Class==1]",
      "metadata": {
        "trusted": true
      },
      "outputs": [],
      "execution_count": 36
    },
    {
      "id": "ca9b9d0e-44af-41ab-9e0e-e612ae9ec2a3",
      "cell_type": "code",
      "source": "print(legit.shape)\nprint(fraud.shape)",
      "metadata": {
        "trusted": true
      },
      "outputs": [
        {
          "name": "stdout",
          "output_type": "stream",
          "text": "(284315, 31)\n(492, 31)\n"
        }
      ],
      "execution_count": 37
    },
    {
      "id": "85145824-2c60-4300-9971-e17c8e356c74",
      "cell_type": "code",
      "source": "# satatistical measure of the data\nlegit.Amount.describe()",
      "metadata": {
        "trusted": true
      },
      "outputs": [
        {
          "execution_count": 38,
          "output_type": "execute_result",
          "data": {
            "text/plain": "count    284315.000000\nmean         88.291022\nstd         250.105092\nmin           0.000000\n25%           5.650000\n50%          22.000000\n75%          77.050000\nmax       25691.160000\nName: Amount, dtype: float64"
          },
          "metadata": {}
        }
      ],
      "execution_count": 38
    },
    {
      "id": "15e47374-6999-4396-9c50-b797b297f467",
      "cell_type": "code",
      "source": "#compare the values\ncredit_card_data.groupby('Class').mean()",
      "metadata": {
        "trusted": true
      },
      "outputs": [
        {
          "execution_count": 39,
          "output_type": "execute_result",
          "data": {
            "text/plain": "               Time        V1        V2        V3        V4        V5  \\\nClass                                                                   \n0      94838.202258  0.008258 -0.006271  0.012171 -0.007860  0.005453   \n1      80746.806911 -4.771948  3.623778 -7.033281  4.542029 -3.151225   \n\n             V6        V7        V8        V9  ...       V20       V21  \\\nClass                                          ...                       \n0      0.002419  0.009637 -0.000987  0.004467  ... -0.000644 -0.001235   \n1     -1.397737 -5.568731  0.570636 -2.581123  ...  0.372319  0.713588   \n\n            V22       V23       V24       V25       V26       V27       V28  \\\nClass                                                                         \n0     -0.000024  0.000070  0.000182 -0.000072 -0.000089 -0.000295 -0.000131   \n1      0.014049 -0.040308 -0.105130  0.041449  0.051648  0.170575  0.075667   \n\n           Amount  \nClass              \n0       88.291022  \n1      122.211321  \n\n[2 rows x 30 columns]",
            "text/html": "<div>\n<style scoped>\n    .dataframe tbody tr th:only-of-type {\n        vertical-align: middle;\n    }\n\n    .dataframe tbody tr th {\n        vertical-align: top;\n    }\n\n    .dataframe thead th {\n        text-align: right;\n    }\n</style>\n<table border=\"1\" class=\"dataframe\">\n  <thead>\n    <tr style=\"text-align: right;\">\n      <th></th>\n      <th>Time</th>\n      <th>V1</th>\n      <th>V2</th>\n      <th>V3</th>\n      <th>V4</th>\n      <th>V5</th>\n      <th>V6</th>\n      <th>V7</th>\n      <th>V8</th>\n      <th>V9</th>\n      <th>...</th>\n      <th>V20</th>\n      <th>V21</th>\n      <th>V22</th>\n      <th>V23</th>\n      <th>V24</th>\n      <th>V25</th>\n      <th>V26</th>\n      <th>V27</th>\n      <th>V28</th>\n      <th>Amount</th>\n    </tr>\n    <tr>\n      <th>Class</th>\n      <th></th>\n      <th></th>\n      <th></th>\n      <th></th>\n      <th></th>\n      <th></th>\n      <th></th>\n      <th></th>\n      <th></th>\n      <th></th>\n      <th></th>\n      <th></th>\n      <th></th>\n      <th></th>\n      <th></th>\n      <th></th>\n      <th></th>\n      <th></th>\n      <th></th>\n      <th></th>\n      <th></th>\n    </tr>\n  </thead>\n  <tbody>\n    <tr>\n      <th>0</th>\n      <td>94838.202258</td>\n      <td>0.008258</td>\n      <td>-0.006271</td>\n      <td>0.012171</td>\n      <td>-0.007860</td>\n      <td>0.005453</td>\n      <td>0.002419</td>\n      <td>0.009637</td>\n      <td>-0.000987</td>\n      <td>0.004467</td>\n      <td>...</td>\n      <td>-0.000644</td>\n      <td>-0.001235</td>\n      <td>-0.000024</td>\n      <td>0.000070</td>\n      <td>0.000182</td>\n      <td>-0.000072</td>\n      <td>-0.000089</td>\n      <td>-0.000295</td>\n      <td>-0.000131</td>\n      <td>88.291022</td>\n    </tr>\n    <tr>\n      <th>1</th>\n      <td>80746.806911</td>\n      <td>-4.771948</td>\n      <td>3.623778</td>\n      <td>-7.033281</td>\n      <td>4.542029</td>\n      <td>-3.151225</td>\n      <td>-1.397737</td>\n      <td>-5.568731</td>\n      <td>0.570636</td>\n      <td>-2.581123</td>\n      <td>...</td>\n      <td>0.372319</td>\n      <td>0.713588</td>\n      <td>0.014049</td>\n      <td>-0.040308</td>\n      <td>-0.105130</td>\n      <td>0.041449</td>\n      <td>0.051648</td>\n      <td>0.170575</td>\n      <td>0.075667</td>\n      <td>122.211321</td>\n    </tr>\n  </tbody>\n</table>\n<p>2 rows × 30 columns</p>\n</div>"
          },
          "metadata": {}
        }
      ],
      "execution_count": 39
    },
    {
      "id": "b2367575-29c5-4236-b1fe-8e2678a0be7f",
      "cell_type": "code",
      "source": "#under sampling building data set for similar distribution of both legit and fraud\n\nlegit_sample=legit.sample(n=492)",
      "metadata": {
        "trusted": true
      },
      "outputs": [],
      "execution_count": 40
    },
    {
      "id": "780b8f4a-c37f-4150-8789-12abb095c1a4",
      "cell_type": "code",
      "source": "new_dataset=pd.concat([legit_sample,fraud],axis=0)  #0--> for concate row wise",
      "metadata": {
        "trusted": true
      },
      "outputs": [],
      "execution_count": 41
    },
    {
      "id": "ac48814b-f3f2-418b-b3b3-a06e61ce6801",
      "cell_type": "code",
      "source": "new_dataset.head()\n",
      "metadata": {
        "trusted": true
      },
      "outputs": [
        {
          "execution_count": 42,
          "output_type": "execute_result",
          "data": {
            "text/plain": "            Time        V1        V2        V3        V4        V5        V6  \\\n176529  122806.0  0.823525  1.033314 -0.326135  4.150498  1.710990  2.754547   \n284782  172767.0 -0.268061  2.540315 -1.400915  4.846661  0.639105  0.186479   \n19762    30537.0 -0.239687  1.324734  0.517904  0.861827  0.123940 -0.502967   \n160845  113693.0 -1.689257  1.332369  0.832997 -0.565122 -0.254493  0.074720   \n284038  172097.0  1.816731  0.450086 -1.619157  3.690127  0.956562 -0.243225   \n\n              V7        V8        V9  ...       V21       V22       V23  \\\n176529  0.087626  0.561192 -1.936451  ...  0.516158  1.777805  0.048926   \n284782 -0.045911  0.936448 -2.419986  ... -0.263889 -0.857904  0.235172   \n19762   0.462188  0.203816 -0.901893  ...  0.158057  0.451575 -0.135733   \n160845 -0.091012  0.319079  0.755313  ...  0.036807 -0.418045  0.016123   \n284038  0.798179 -0.210411 -1.510046  ...  0.183319  0.382099 -0.124160   \n\n             V24       V25       V26       V27       V28  Amount  Class  \n176529 -0.886902 -1.124391  0.569527  0.191587  0.040579   10.59      0  \n284782 -0.681794 -0.668894  0.044657 -0.066751 -0.072447   12.82      0  \n19762  -0.099458 -0.007772 -0.299989 -0.034891 -0.020079   11.72      0  \n160845  0.537193 -0.412621 -0.653509 -1.089445  0.137838    6.23      0  \n284038 -0.346569  0.382917  0.167055 -0.101279 -0.069711   80.02      0  \n\n[5 rows x 31 columns]",
            "text/html": "<div>\n<style scoped>\n    .dataframe tbody tr th:only-of-type {\n        vertical-align: middle;\n    }\n\n    .dataframe tbody tr th {\n        vertical-align: top;\n    }\n\n    .dataframe thead th {\n        text-align: right;\n    }\n</style>\n<table border=\"1\" class=\"dataframe\">\n  <thead>\n    <tr style=\"text-align: right;\">\n      <th></th>\n      <th>Time</th>\n      <th>V1</th>\n      <th>V2</th>\n      <th>V3</th>\n      <th>V4</th>\n      <th>V5</th>\n      <th>V6</th>\n      <th>V7</th>\n      <th>V8</th>\n      <th>V9</th>\n      <th>...</th>\n      <th>V21</th>\n      <th>V22</th>\n      <th>V23</th>\n      <th>V24</th>\n      <th>V25</th>\n      <th>V26</th>\n      <th>V27</th>\n      <th>V28</th>\n      <th>Amount</th>\n      <th>Class</th>\n    </tr>\n  </thead>\n  <tbody>\n    <tr>\n      <th>176529</th>\n      <td>122806.0</td>\n      <td>0.823525</td>\n      <td>1.033314</td>\n      <td>-0.326135</td>\n      <td>4.150498</td>\n      <td>1.710990</td>\n      <td>2.754547</td>\n      <td>0.087626</td>\n      <td>0.561192</td>\n      <td>-1.936451</td>\n      <td>...</td>\n      <td>0.516158</td>\n      <td>1.777805</td>\n      <td>0.048926</td>\n      <td>-0.886902</td>\n      <td>-1.124391</td>\n      <td>0.569527</td>\n      <td>0.191587</td>\n      <td>0.040579</td>\n      <td>10.59</td>\n      <td>0</td>\n    </tr>\n    <tr>\n      <th>284782</th>\n      <td>172767.0</td>\n      <td>-0.268061</td>\n      <td>2.540315</td>\n      <td>-1.400915</td>\n      <td>4.846661</td>\n      <td>0.639105</td>\n      <td>0.186479</td>\n      <td>-0.045911</td>\n      <td>0.936448</td>\n      <td>-2.419986</td>\n      <td>...</td>\n      <td>-0.263889</td>\n      <td>-0.857904</td>\n      <td>0.235172</td>\n      <td>-0.681794</td>\n      <td>-0.668894</td>\n      <td>0.044657</td>\n      <td>-0.066751</td>\n      <td>-0.072447</td>\n      <td>12.82</td>\n      <td>0</td>\n    </tr>\n    <tr>\n      <th>19762</th>\n      <td>30537.0</td>\n      <td>-0.239687</td>\n      <td>1.324734</td>\n      <td>0.517904</td>\n      <td>0.861827</td>\n      <td>0.123940</td>\n      <td>-0.502967</td>\n      <td>0.462188</td>\n      <td>0.203816</td>\n      <td>-0.901893</td>\n      <td>...</td>\n      <td>0.158057</td>\n      <td>0.451575</td>\n      <td>-0.135733</td>\n      <td>-0.099458</td>\n      <td>-0.007772</td>\n      <td>-0.299989</td>\n      <td>-0.034891</td>\n      <td>-0.020079</td>\n      <td>11.72</td>\n      <td>0</td>\n    </tr>\n    <tr>\n      <th>160845</th>\n      <td>113693.0</td>\n      <td>-1.689257</td>\n      <td>1.332369</td>\n      <td>0.832997</td>\n      <td>-0.565122</td>\n      <td>-0.254493</td>\n      <td>0.074720</td>\n      <td>-0.091012</td>\n      <td>0.319079</td>\n      <td>0.755313</td>\n      <td>...</td>\n      <td>0.036807</td>\n      <td>-0.418045</td>\n      <td>0.016123</td>\n      <td>0.537193</td>\n      <td>-0.412621</td>\n      <td>-0.653509</td>\n      <td>-1.089445</td>\n      <td>0.137838</td>\n      <td>6.23</td>\n      <td>0</td>\n    </tr>\n    <tr>\n      <th>284038</th>\n      <td>172097.0</td>\n      <td>1.816731</td>\n      <td>0.450086</td>\n      <td>-1.619157</td>\n      <td>3.690127</td>\n      <td>0.956562</td>\n      <td>-0.243225</td>\n      <td>0.798179</td>\n      <td>-0.210411</td>\n      <td>-1.510046</td>\n      <td>...</td>\n      <td>0.183319</td>\n      <td>0.382099</td>\n      <td>-0.124160</td>\n      <td>-0.346569</td>\n      <td>0.382917</td>\n      <td>0.167055</td>\n      <td>-0.101279</td>\n      <td>-0.069711</td>\n      <td>80.02</td>\n      <td>0</td>\n    </tr>\n  </tbody>\n</table>\n<p>5 rows × 31 columns</p>\n</div>"
          },
          "metadata": {}
        }
      ],
      "execution_count": 42
    },
    {
      "id": "b97473bc-f76b-436b-ae8a-77e7b03c27a6",
      "cell_type": "code",
      "source": "new_dataset['Class'].value_counts()",
      "metadata": {
        "trusted": true
      },
      "outputs": [
        {
          "execution_count": 43,
          "output_type": "execute_result",
          "data": {
            "text/plain": "Class\n0    492\n1    492\nName: count, dtype: int64"
          },
          "metadata": {}
        }
      ],
      "execution_count": 43
    },
    {
      "id": "4674f4d1-ae8c-447c-b886-a816b0c304f4",
      "cell_type": "code",
      "source": "new_dataset.groupby('Class').mean()",
      "metadata": {
        "trusted": true
      },
      "outputs": [
        {
          "execution_count": 44,
          "output_type": "execute_result",
          "data": {
            "text/plain": "               Time        V1        V2        V3        V4        V5  \\\nClass                                                                   \n0      95745.880081  0.098046 -0.033406  0.003219 -0.007397 -0.023779   \n1      80746.806911 -4.771948  3.623778 -7.033281  4.542029 -3.151225   \n\n             V6        V7        V8        V9  ...       V20       V21  \\\nClass                                          ...                       \n0     -0.009575 -0.003260 -0.013569  0.006789  ... -0.068883 -0.020953   \n1     -1.397737 -5.568731  0.570636 -2.581123  ...  0.372319  0.713588   \n\n            V22       V23       V24       V25       V26       V27       V28  \\\nClass                                                                         \n0      0.018343  0.034900 -0.042778  0.004062  0.002081  0.026190  0.020239   \n1      0.014049 -0.040308 -0.105130  0.041449  0.051648  0.170575  0.075667   \n\n           Amount  \nClass              \n0       81.503598  \n1      122.211321  \n\n[2 rows x 30 columns]",
            "text/html": "<div>\n<style scoped>\n    .dataframe tbody tr th:only-of-type {\n        vertical-align: middle;\n    }\n\n    .dataframe tbody tr th {\n        vertical-align: top;\n    }\n\n    .dataframe thead th {\n        text-align: right;\n    }\n</style>\n<table border=\"1\" class=\"dataframe\">\n  <thead>\n    <tr style=\"text-align: right;\">\n      <th></th>\n      <th>Time</th>\n      <th>V1</th>\n      <th>V2</th>\n      <th>V3</th>\n      <th>V4</th>\n      <th>V5</th>\n      <th>V6</th>\n      <th>V7</th>\n      <th>V8</th>\n      <th>V9</th>\n      <th>...</th>\n      <th>V20</th>\n      <th>V21</th>\n      <th>V22</th>\n      <th>V23</th>\n      <th>V24</th>\n      <th>V25</th>\n      <th>V26</th>\n      <th>V27</th>\n      <th>V28</th>\n      <th>Amount</th>\n    </tr>\n    <tr>\n      <th>Class</th>\n      <th></th>\n      <th></th>\n      <th></th>\n      <th></th>\n      <th></th>\n      <th></th>\n      <th></th>\n      <th></th>\n      <th></th>\n      <th></th>\n      <th></th>\n      <th></th>\n      <th></th>\n      <th></th>\n      <th></th>\n      <th></th>\n      <th></th>\n      <th></th>\n      <th></th>\n      <th></th>\n      <th></th>\n    </tr>\n  </thead>\n  <tbody>\n    <tr>\n      <th>0</th>\n      <td>95745.880081</td>\n      <td>0.098046</td>\n      <td>-0.033406</td>\n      <td>0.003219</td>\n      <td>-0.007397</td>\n      <td>-0.023779</td>\n      <td>-0.009575</td>\n      <td>-0.003260</td>\n      <td>-0.013569</td>\n      <td>0.006789</td>\n      <td>...</td>\n      <td>-0.068883</td>\n      <td>-0.020953</td>\n      <td>0.018343</td>\n      <td>0.034900</td>\n      <td>-0.042778</td>\n      <td>0.004062</td>\n      <td>0.002081</td>\n      <td>0.026190</td>\n      <td>0.020239</td>\n      <td>81.503598</td>\n    </tr>\n    <tr>\n      <th>1</th>\n      <td>80746.806911</td>\n      <td>-4.771948</td>\n      <td>3.623778</td>\n      <td>-7.033281</td>\n      <td>4.542029</td>\n      <td>-3.151225</td>\n      <td>-1.397737</td>\n      <td>-5.568731</td>\n      <td>0.570636</td>\n      <td>-2.581123</td>\n      <td>...</td>\n      <td>0.372319</td>\n      <td>0.713588</td>\n      <td>0.014049</td>\n      <td>-0.040308</td>\n      <td>-0.105130</td>\n      <td>0.041449</td>\n      <td>0.051648</td>\n      <td>0.170575</td>\n      <td>0.075667</td>\n      <td>122.211321</td>\n    </tr>\n  </tbody>\n</table>\n<p>2 rows × 30 columns</p>\n</div>"
          },
          "metadata": {}
        }
      ],
      "execution_count": 44
    },
    {
      "id": "391435b1-eded-4dda-81b5-2aa3bed0ecac",
      "cell_type": "code",
      "source": "# splitting the data into feature and targets \nX=new_dataset.drop(columns ='Class' ,axis=1)\nY=new_dataset['Class']",
      "metadata": {
        "trusted": true
      },
      "outputs": [],
      "execution_count": 45
    },
    {
      "id": "c887ea15-4b6a-43d4-bb1d-e1e19c7a6aad",
      "cell_type": "code",
      "source": "print(X)",
      "metadata": {
        "trusted": true
      },
      "outputs": [
        {
          "name": "stdout",
          "output_type": "stream",
          "text": "            Time        V1        V2        V3        V4        V5        V6  \\\n176529  122806.0  0.823525  1.033314 -0.326135  4.150498  1.710990  2.754547   \n284782  172767.0 -0.268061  2.540315 -1.400915  4.846661  0.639105  0.186479   \n19762    30537.0 -0.239687  1.324734  0.517904  0.861827  0.123940 -0.502967   \n160845  113693.0 -1.689257  1.332369  0.832997 -0.565122 -0.254493  0.074720   \n284038  172097.0  1.816731  0.450086 -1.619157  3.690127  0.956562 -0.243225   \n...          ...       ...       ...       ...       ...       ...       ...   \n279863  169142.0 -1.927883  1.125653 -4.518331  1.749293 -1.566487 -2.010494   \n280143  169347.0  1.378559  1.289381 -5.004247  1.411850  0.442581 -1.326536   \n280149  169351.0 -0.676143  1.126366 -2.213700  0.468308 -1.120541 -0.003346   \n281144  169966.0 -3.113832  0.585864 -5.399730  1.817092 -0.840618 -2.943548   \n281674  170348.0  1.991976  0.158476 -2.583441  0.408670  1.151147 -0.096695   \n\n              V7        V8        V9  ...       V20       V21       V22  \\\n176529  0.087626  0.561192 -1.936451  ...  0.070312  0.516158  1.777805   \n284782 -0.045911  0.936448 -2.419986  ...  0.111808 -0.263889 -0.857904   \n19762   0.462188  0.203816 -0.901893  ... -0.014886  0.158057  0.451575   \n160845 -0.091012  0.319079  0.755313  ... -0.343454  0.036807 -0.418045   \n284038  0.798179 -0.210411 -1.510046  ... -0.188848  0.183319  0.382099   \n...          ...       ...       ...  ...       ...       ...       ...   \n279863 -0.882850  0.697211 -2.064945  ...  1.252967  0.778584 -0.319189   \n280143 -1.413170  0.248525 -1.127396  ...  0.226138  0.370612  0.028234   \n280149 -2.234739  1.210158 -0.652250  ...  0.247968  0.751826  0.834108   \n281144 -2.208002  1.058733 -1.632333  ...  0.306271  0.583276 -0.269209   \n281674  0.223050 -0.068384  0.577829  ... -0.017652 -0.164350 -0.295135   \n\n             V23       V24       V25       V26       V27       V28  Amount  \n176529  0.048926 -0.886902 -1.124391  0.569527  0.191587  0.040579   10.59  \n284782  0.235172 -0.681794 -0.668894  0.044657 -0.066751 -0.072447   12.82  \n19762  -0.135733 -0.099458 -0.007772 -0.299989 -0.034891 -0.020079   11.72  \n160845  0.016123  0.537193 -0.412621 -0.653509 -1.089445  0.137838    6.23  \n284038 -0.124160 -0.346569  0.382917  0.167055 -0.101279 -0.069711   80.02  \n...          ...       ...       ...       ...       ...       ...     ...  \n279863  0.639419 -0.294885  0.537503  0.788395  0.292680  0.147968  390.00  \n280143 -0.145640 -0.081049  0.521875  0.739467  0.389152  0.186637    0.76  \n280149  0.190944  0.032070 -0.739695  0.471111  0.385107  0.194361   77.89  \n281144 -0.456108 -0.183659 -0.328168  0.606116  0.884876 -0.253700  245.00  \n281674 -0.072173 -0.450261  0.313267 -0.289617  0.002988 -0.015309   42.53  \n\n[984 rows x 30 columns]\n"
        }
      ],
      "execution_count": 46
    },
    {
      "id": "fd68341f-7868-4410-98e4-8007a2c1c23e",
      "cell_type": "code",
      "source": "print(Y)",
      "metadata": {
        "trusted": true
      },
      "outputs": [
        {
          "name": "stdout",
          "output_type": "stream",
          "text": "176529    0\n284782    0\n19762     0\n160845    0\n284038    0\n         ..\n279863    1\n280143    1\n280149    1\n281144    1\n281674    1\nName: Class, Length: 984, dtype: int64\n"
        }
      ],
      "execution_count": 47
    },
    {
      "id": "1179f3f6-0443-45a1-a879-fb95e3ee1956",
      "cell_type": "code",
      "source": "#splitting your dataset into training and testing\nX_train ,X_test, Y_train , Y_test =train_test_split(X,Y,test_size=0.2,stratify=Y,random_state=2)",
      "metadata": {
        "trusted": true
      },
      "outputs": [],
      "execution_count": 48
    },
    {
      "id": "1b2028b6-7041-4bd2-a6c1-d040f3157a6d",
      "cell_type": "code",
      "source": "print(X.shape,X_train,X_test.shape)",
      "metadata": {
        "trusted": true
      },
      "outputs": [
        {
          "name": "stdout",
          "output_type": "stream",
          "text": "(984, 30)             Time         V1        V2         V3        V4         V5  \\\n100623   67571.0  -0.758469 -0.045410  -0.168438 -1.313275  -1.901763   \n276193  166949.0  -0.243928  3.141374  -2.946971  5.045465   1.823447   \n222036  142792.0   1.861822  0.124812  -1.733539  1.331260   0.946848   \n226960  144877.0   2.124148 -0.772985  -1.080599 -0.509896  -1.051441   \n160733  113589.0   1.744180 -1.243813  -1.434665 -0.246646  -0.775132   \n...          ...        ...       ...        ...       ...        ...   \n153632   99689.0   1.999830  0.432076  -2.248389  0.998578   0.854432   \n257749  158326.0  -2.020317  1.525420  -0.886097 -0.592873   0.720770   \n223618  143456.0  -2.006582  3.676577  -5.463811  7.232058  -1.627859   \n43061    41353.0 -15.020981  8.075240 -16.298091  5.664820 -11.918153   \n192923  129911.0  -0.434394  1.553436  -0.355604  0.986624   0.610502   \n\n              V6         V7        V8        V9  ...       V20       V21  \\\n100623  0.739433   3.071892 -0.483422  0.618203  ... -0.032500  0.042619   \n276193  1.195500  -1.379422 -5.200586 -2.696677  ...  1.422822 -2.726113   \n222036  1.008939  -0.493952  0.475933  0.933001  ... -0.349080 -0.041699   \n226960 -1.163394  -0.964259 -0.099389  0.274518  ... -0.046911  0.227728   \n160733 -1.188300   0.119492 -0.531685 -0.806876  ... -0.061886  0.016983   \n...          ...        ...       ...       ...  ...       ...       ...   \n153632 -0.812018   0.177807 -0.350214  1.839415  ... -0.055027 -0.152089   \n257749  0.759207  -0.089820  1.165920 -0.275608  ... -0.471174  0.343574   \n223618 -0.996755  -4.299833  2.268867 -3.651067  ...  0.474414  0.713907   \n43061  -4.246957 -14.716668  9.435084 -6.795398  ... -0.995787  2.525115   \n192923 -0.867229   1.020506  0.162809 -0.765112  ... -0.097841  0.141582   \n\n             V22       V23       V24       V25       V26       V27       V28  \\\n100623  0.397224  0.072229 -0.242276  0.560916 -0.540955  0.150606 -0.117140   \n276193  0.330570  0.251328 -1.529991 -0.349883  0.393080 -0.197983  0.022302   \n222036  0.074805  0.241849 -0.820462 -0.253821 -0.588568  0.103218  0.002360   \n226960  0.670806  0.116493 -0.089630 -0.200885 -0.086494  0.018749 -0.013073   \n160733  0.176865 -0.087555  0.124299 -0.114427  0.764103 -0.096665 -0.021332   \n...          ...       ...       ...       ...       ...       ...       ...   \n153632  0.116879 -0.037551  0.432564  0.230942  0.658959 -0.062312 -0.007306   \n257749  0.768634 -0.319939 -1.618347  0.900574  0.185565 -0.695155 -0.083352   \n223618 -0.063868  0.167947 -0.449864  0.023702  0.536905  0.485864 -0.042393   \n43061  -0.832074 -0.186117  0.429781  0.697103  0.056031 -1.310888 -0.707403   \n192923  0.613280 -0.261693 -0.076076  0.043384 -0.366698  0.315478  0.178902   \n\n        Amount  \n100623  549.06  \n276193    9.10  \n222036    6.10  \n226960   24.99  \n160733  237.10  \n...        ...  \n153632   29.56  \n257749   14.76  \n223618    1.00  \n43061    34.12  \n192923    1.00  \n\n (197, 30)x 30 columns]\n"
        }
      ],
      "execution_count": 49
    },
    {
      "id": "271a8587-eda8-4655-b423-3312e7edf7d0",
      "cell_type": "code",
      "source": "#model training/logisticsRegression\nmodel=LogisticRegression()",
      "metadata": {
        "trusted": true
      },
      "outputs": [],
      "execution_count": 50
    },
    {
      "id": "3c01c449-f306-4780-a254-d7f98d2d2e04",
      "cell_type": "code",
      "source": "\n#model.fit(X_train,Y_train)\n##ipeline.fit(X_train, Y_train)\npipeline = make_pipeline(StandardScaler(), LogisticRegression(max_iter=1000, random_state=42))\npipeline.fit(X_train, Y_train)",
      "metadata": {
        "trusted": true
      },
      "outputs": [
        {
          "execution_count": 54,
          "output_type": "execute_result",
          "data": {
            "text/plain": "Pipeline(steps=[('standardscaler', StandardScaler()),\n                ('logisticregression',\n                 LogisticRegression(max_iter=1000, random_state=42))])",
            "text/html": "<style>#sk-container-id-2 {\n  /* Definition of color scheme common for light and dark mode */\n  --sklearn-color-text: black;\n  --sklearn-color-line: gray;\n  /* Definition of color scheme for unfitted estimators */\n  --sklearn-color-unfitted-level-0: #fff5e6;\n  --sklearn-color-unfitted-level-1: #f6e4d2;\n  --sklearn-color-unfitted-level-2: #ffe0b3;\n  --sklearn-color-unfitted-level-3: chocolate;\n  /* Definition of color scheme for fitted estimators */\n  --sklearn-color-fitted-level-0: #f0f8ff;\n  --sklearn-color-fitted-level-1: #d4ebff;\n  --sklearn-color-fitted-level-2: #b3dbfd;\n  --sklearn-color-fitted-level-3: cornflowerblue;\n\n  /* Specific color for light theme */\n  --sklearn-color-text-on-default-background: var(--sg-text-color, var(--theme-code-foreground, var(--jp-content-font-color1, black)));\n  --sklearn-color-background: var(--sg-background-color, var(--theme-background, var(--jp-layout-color0, white)));\n  --sklearn-color-border-box: var(--sg-text-color, var(--theme-code-foreground, var(--jp-content-font-color1, black)));\n  --sklearn-color-icon: #696969;\n\n  @media (prefers-color-scheme: dark) {\n    /* Redefinition of color scheme for dark theme */\n    --sklearn-color-text-on-default-background: var(--sg-text-color, var(--theme-code-foreground, var(--jp-content-font-color1, white)));\n    --sklearn-color-background: var(--sg-background-color, var(--theme-background, var(--jp-layout-color0, #111)));\n    --sklearn-color-border-box: var(--sg-text-color, var(--theme-code-foreground, var(--jp-content-font-color1, white)));\n    --sklearn-color-icon: #878787;\n  }\n}\n\n#sk-container-id-2 {\n  color: var(--sklearn-color-text);\n}\n\n#sk-container-id-2 pre {\n  padding: 0;\n}\n\n#sk-container-id-2 input.sk-hidden--visually {\n  border: 0;\n  clip: rect(1px 1px 1px 1px);\n  clip: rect(1px, 1px, 1px, 1px);\n  height: 1px;\n  margin: -1px;\n  overflow: hidden;\n  padding: 0;\n  position: absolute;\n  width: 1px;\n}\n\n#sk-container-id-2 div.sk-dashed-wrapped {\n  border: 1px dashed var(--sklearn-color-line);\n  margin: 0 0.4em 0.5em 0.4em;\n  box-sizing: border-box;\n  padding-bottom: 0.4em;\n  background-color: var(--sklearn-color-background);\n}\n\n#sk-container-id-2 div.sk-container {\n  /* jupyter's `normalize.less` sets `[hidden] { display: none; }`\n     but bootstrap.min.css set `[hidden] { display: none !important; }`\n     so we also need the `!important` here to be able to override the\n     default hidden behavior on the sphinx rendered scikit-learn.org.\n     See: https://github.com/scikit-learn/scikit-learn/issues/21755 */\n  display: inline-block !important;\n  position: relative;\n}\n\n#sk-container-id-2 div.sk-text-repr-fallback {\n  display: none;\n}\n\ndiv.sk-parallel-item,\ndiv.sk-serial,\ndiv.sk-item {\n  /* draw centered vertical line to link estimators */\n  background-image: linear-gradient(var(--sklearn-color-text-on-default-background), var(--sklearn-color-text-on-default-background));\n  background-size: 2px 100%;\n  background-repeat: no-repeat;\n  background-position: center center;\n}\n\n/* Parallel-specific style estimator block */\n\n#sk-container-id-2 div.sk-parallel-item::after {\n  content: \"\";\n  width: 100%;\n  border-bottom: 2px solid var(--sklearn-color-text-on-default-background);\n  flex-grow: 1;\n}\n\n#sk-container-id-2 div.sk-parallel {\n  display: flex;\n  align-items: stretch;\n  justify-content: center;\n  background-color: var(--sklearn-color-background);\n  position: relative;\n}\n\n#sk-container-id-2 div.sk-parallel-item {\n  display: flex;\n  flex-direction: column;\n}\n\n#sk-container-id-2 div.sk-parallel-item:first-child::after {\n  align-self: flex-end;\n  width: 50%;\n}\n\n#sk-container-id-2 div.sk-parallel-item:last-child::after {\n  align-self: flex-start;\n  width: 50%;\n}\n\n#sk-container-id-2 div.sk-parallel-item:only-child::after {\n  width: 0;\n}\n\n/* Serial-specific style estimator block */\n\n#sk-container-id-2 div.sk-serial {\n  display: flex;\n  flex-direction: column;\n  align-items: center;\n  background-color: var(--sklearn-color-background);\n  padding-right: 1em;\n  padding-left: 1em;\n}\n\n\n/* Toggleable style: style used for estimator/Pipeline/ColumnTransformer box that is\nclickable and can be expanded/collapsed.\n- Pipeline and ColumnTransformer use this feature and define the default style\n- Estimators will overwrite some part of the style using the `sk-estimator` class\n*/\n\n/* Pipeline and ColumnTransformer style (default) */\n\n#sk-container-id-2 div.sk-toggleable {\n  /* Default theme specific background. It is overwritten whether we have a\n  specific estimator or a Pipeline/ColumnTransformer */\n  background-color: var(--sklearn-color-background);\n}\n\n/* Toggleable label */\n#sk-container-id-2 label.sk-toggleable__label {\n  cursor: pointer;\n  display: block;\n  width: 100%;\n  margin-bottom: 0;\n  padding: 0.5em;\n  box-sizing: border-box;\n  text-align: center;\n}\n\n#sk-container-id-2 label.sk-toggleable__label-arrow:before {\n  /* Arrow on the left of the label */\n  content: \"▸\";\n  float: left;\n  margin-right: 0.25em;\n  color: var(--sklearn-color-icon);\n}\n\n#sk-container-id-2 label.sk-toggleable__label-arrow:hover:before {\n  color: var(--sklearn-color-text);\n}\n\n/* Toggleable content - dropdown */\n\n#sk-container-id-2 div.sk-toggleable__content {\n  max-height: 0;\n  max-width: 0;\n  overflow: hidden;\n  text-align: left;\n  /* unfitted */\n  background-color: var(--sklearn-color-unfitted-level-0);\n}\n\n#sk-container-id-2 div.sk-toggleable__content.fitted {\n  /* fitted */\n  background-color: var(--sklearn-color-fitted-level-0);\n}\n\n#sk-container-id-2 div.sk-toggleable__content pre {\n  margin: 0.2em;\n  border-radius: 0.25em;\n  color: var(--sklearn-color-text);\n  /* unfitted */\n  background-color: var(--sklearn-color-unfitted-level-0);\n}\n\n#sk-container-id-2 div.sk-toggleable__content.fitted pre {\n  /* unfitted */\n  background-color: var(--sklearn-color-fitted-level-0);\n}\n\n#sk-container-id-2 input.sk-toggleable__control:checked~div.sk-toggleable__content {\n  /* Expand drop-down */\n  max-height: 200px;\n  max-width: 100%;\n  overflow: auto;\n}\n\n#sk-container-id-2 input.sk-toggleable__control:checked~label.sk-toggleable__label-arrow:before {\n  content: \"▾\";\n}\n\n/* Pipeline/ColumnTransformer-specific style */\n\n#sk-container-id-2 div.sk-label input.sk-toggleable__control:checked~label.sk-toggleable__label {\n  color: var(--sklearn-color-text);\n  background-color: var(--sklearn-color-unfitted-level-2);\n}\n\n#sk-container-id-2 div.sk-label.fitted input.sk-toggleable__control:checked~label.sk-toggleable__label {\n  background-color: var(--sklearn-color-fitted-level-2);\n}\n\n/* Estimator-specific style */\n\n/* Colorize estimator box */\n#sk-container-id-2 div.sk-estimator input.sk-toggleable__control:checked~label.sk-toggleable__label {\n  /* unfitted */\n  background-color: var(--sklearn-color-unfitted-level-2);\n}\n\n#sk-container-id-2 div.sk-estimator.fitted input.sk-toggleable__control:checked~label.sk-toggleable__label {\n  /* fitted */\n  background-color: var(--sklearn-color-fitted-level-2);\n}\n\n#sk-container-id-2 div.sk-label label.sk-toggleable__label,\n#sk-container-id-2 div.sk-label label {\n  /* The background is the default theme color */\n  color: var(--sklearn-color-text-on-default-background);\n}\n\n/* On hover, darken the color of the background */\n#sk-container-id-2 div.sk-label:hover label.sk-toggleable__label {\n  color: var(--sklearn-color-text);\n  background-color: var(--sklearn-color-unfitted-level-2);\n}\n\n/* Label box, darken color on hover, fitted */\n#sk-container-id-2 div.sk-label.fitted:hover label.sk-toggleable__label.fitted {\n  color: var(--sklearn-color-text);\n  background-color: var(--sklearn-color-fitted-level-2);\n}\n\n/* Estimator label */\n\n#sk-container-id-2 div.sk-label label {\n  font-family: monospace;\n  font-weight: bold;\n  display: inline-block;\n  line-height: 1.2em;\n}\n\n#sk-container-id-2 div.sk-label-container {\n  text-align: center;\n}\n\n/* Estimator-specific */\n#sk-container-id-2 div.sk-estimator {\n  font-family: monospace;\n  border: 1px dotted var(--sklearn-color-border-box);\n  border-radius: 0.25em;\n  box-sizing: border-box;\n  margin-bottom: 0.5em;\n  /* unfitted */\n  background-color: var(--sklearn-color-unfitted-level-0);\n}\n\n#sk-container-id-2 div.sk-estimator.fitted {\n  /* fitted */\n  background-color: var(--sklearn-color-fitted-level-0);\n}\n\n/* on hover */\n#sk-container-id-2 div.sk-estimator:hover {\n  /* unfitted */\n  background-color: var(--sklearn-color-unfitted-level-2);\n}\n\n#sk-container-id-2 div.sk-estimator.fitted:hover {\n  /* fitted */\n  background-color: var(--sklearn-color-fitted-level-2);\n}\n\n/* Specification for estimator info (e.g. \"i\" and \"?\") */\n\n/* Common style for \"i\" and \"?\" */\n\n.sk-estimator-doc-link,\na:link.sk-estimator-doc-link,\na:visited.sk-estimator-doc-link {\n  float: right;\n  font-size: smaller;\n  line-height: 1em;\n  font-family: monospace;\n  background-color: var(--sklearn-color-background);\n  border-radius: 1em;\n  height: 1em;\n  width: 1em;\n  text-decoration: none !important;\n  margin-left: 1ex;\n  /* unfitted */\n  border: var(--sklearn-color-unfitted-level-1) 1pt solid;\n  color: var(--sklearn-color-unfitted-level-1);\n}\n\n.sk-estimator-doc-link.fitted,\na:link.sk-estimator-doc-link.fitted,\na:visited.sk-estimator-doc-link.fitted {\n  /* fitted */\n  border: var(--sklearn-color-fitted-level-1) 1pt solid;\n  color: var(--sklearn-color-fitted-level-1);\n}\n\n/* On hover */\ndiv.sk-estimator:hover .sk-estimator-doc-link:hover,\n.sk-estimator-doc-link:hover,\ndiv.sk-label-container:hover .sk-estimator-doc-link:hover,\n.sk-estimator-doc-link:hover {\n  /* unfitted */\n  background-color: var(--sklearn-color-unfitted-level-3);\n  color: var(--sklearn-color-background);\n  text-decoration: none;\n}\n\ndiv.sk-estimator.fitted:hover .sk-estimator-doc-link.fitted:hover,\n.sk-estimator-doc-link.fitted:hover,\ndiv.sk-label-container:hover .sk-estimator-doc-link.fitted:hover,\n.sk-estimator-doc-link.fitted:hover {\n  /* fitted */\n  background-color: var(--sklearn-color-fitted-level-3);\n  color: var(--sklearn-color-background);\n  text-decoration: none;\n}\n\n/* Span, style for the box shown on hovering the info icon */\n.sk-estimator-doc-link span {\n  display: none;\n  z-index: 9999;\n  position: relative;\n  font-weight: normal;\n  right: .2ex;\n  padding: .5ex;\n  margin: .5ex;\n  width: min-content;\n  min-width: 20ex;\n  max-width: 50ex;\n  color: var(--sklearn-color-text);\n  box-shadow: 2pt 2pt 4pt #999;\n  /* unfitted */\n  background: var(--sklearn-color-unfitted-level-0);\n  border: .5pt solid var(--sklearn-color-unfitted-level-3);\n}\n\n.sk-estimator-doc-link.fitted span {\n  /* fitted */\n  background: var(--sklearn-color-fitted-level-0);\n  border: var(--sklearn-color-fitted-level-3);\n}\n\n.sk-estimator-doc-link:hover span {\n  display: block;\n}\n\n/* \"?\"-specific style due to the `<a>` HTML tag */\n\n#sk-container-id-2 a.estimator_doc_link {\n  float: right;\n  font-size: 1rem;\n  line-height: 1em;\n  font-family: monospace;\n  background-color: var(--sklearn-color-background);\n  border-radius: 1rem;\n  height: 1rem;\n  width: 1rem;\n  text-decoration: none;\n  /* unfitted */\n  color: var(--sklearn-color-unfitted-level-1);\n  border: var(--sklearn-color-unfitted-level-1) 1pt solid;\n}\n\n#sk-container-id-2 a.estimator_doc_link.fitted {\n  /* fitted */\n  border: var(--sklearn-color-fitted-level-1) 1pt solid;\n  color: var(--sklearn-color-fitted-level-1);\n}\n\n/* On hover */\n#sk-container-id-2 a.estimator_doc_link:hover {\n  /* unfitted */\n  background-color: var(--sklearn-color-unfitted-level-3);\n  color: var(--sklearn-color-background);\n  text-decoration: none;\n}\n\n#sk-container-id-2 a.estimator_doc_link.fitted:hover {\n  /* fitted */\n  background-color: var(--sklearn-color-fitted-level-3);\n}\n</style><div id=\"sk-container-id-2\" class=\"sk-top-container\"><div class=\"sk-text-repr-fallback\"><pre>Pipeline(steps=[(&#x27;standardscaler&#x27;, StandardScaler()),\n                (&#x27;logisticregression&#x27;,\n                 LogisticRegression(max_iter=1000, random_state=42))])</pre><b>In a Jupyter environment, please rerun this cell to show the HTML representation or trust the notebook. <br />On GitHub, the HTML representation is unable to render, please try loading this page with nbviewer.org.</b></div><div class=\"sk-container\" hidden><div class=\"sk-item sk-dashed-wrapped\"><div class=\"sk-label-container\"><div class=\"sk-label fitted sk-toggleable\"><input class=\"sk-toggleable__control sk-hidden--visually\" id=\"sk-estimator-id-4\" type=\"checkbox\" ><label for=\"sk-estimator-id-4\" class=\"sk-toggleable__label fitted sk-toggleable__label-arrow fitted\">&nbsp;&nbsp;Pipeline<a class=\"sk-estimator-doc-link fitted\" rel=\"noreferrer\" target=\"_blank\" href=\"https://scikit-learn.org/1.5/modules/generated/sklearn.pipeline.Pipeline.html\">?<span>Documentation for Pipeline</span></a><span class=\"sk-estimator-doc-link fitted\">i<span>Fitted</span></span></label><div class=\"sk-toggleable__content fitted\"><pre>Pipeline(steps=[(&#x27;standardscaler&#x27;, StandardScaler()),\n                (&#x27;logisticregression&#x27;,\n                 LogisticRegression(max_iter=1000, random_state=42))])</pre></div> </div></div><div class=\"sk-serial\"><div class=\"sk-item\"><div class=\"sk-estimator fitted sk-toggleable\"><input class=\"sk-toggleable__control sk-hidden--visually\" id=\"sk-estimator-id-5\" type=\"checkbox\" ><label for=\"sk-estimator-id-5\" class=\"sk-toggleable__label fitted sk-toggleable__label-arrow fitted\">&nbsp;StandardScaler<a class=\"sk-estimator-doc-link fitted\" rel=\"noreferrer\" target=\"_blank\" href=\"https://scikit-learn.org/1.5/modules/generated/sklearn.preprocessing.StandardScaler.html\">?<span>Documentation for StandardScaler</span></a></label><div class=\"sk-toggleable__content fitted\"><pre>StandardScaler()</pre></div> </div></div><div class=\"sk-item\"><div class=\"sk-estimator fitted sk-toggleable\"><input class=\"sk-toggleable__control sk-hidden--visually\" id=\"sk-estimator-id-6\" type=\"checkbox\" ><label for=\"sk-estimator-id-6\" class=\"sk-toggleable__label fitted sk-toggleable__label-arrow fitted\">&nbsp;LogisticRegression<a class=\"sk-estimator-doc-link fitted\" rel=\"noreferrer\" target=\"_blank\" href=\"https://scikit-learn.org/1.5/modules/generated/sklearn.linear_model.LogisticRegression.html\">?<span>Documentation for LogisticRegression</span></a></label><div class=\"sk-toggleable__content fitted\"><pre>LogisticRegression(max_iter=1000, random_state=42)</pre></div> </div></div></div></div></div></div>"
          },
          "metadata": {}
        }
      ],
      "execution_count": 54
    },
    {
      "id": "4258380a-ae30-4138-9065-69e135d319ca",
      "cell_type": "code",
      "source": "#Accuracy Score on training data\nX_train_prediction = pipeline.predict(X_train)\n",
      "metadata": {
        "trusted": true
      },
      "outputs": [],
      "execution_count": 56
    },
    {
      "id": "715a78c2-06e2-454b-9560-cb6ee54f77c9",
      "cell_type": "code",
      "source": "training_data_accuracy = accuracy_score(Y_train, X_train_prediction)\nprint(\"Training Accuracy:\", training_data_accuracy)",
      "metadata": {
        "trusted": true
      },
      "outputs": [
        {
          "name": "stdout",
          "output_type": "stream",
          "text": "Training Accuracy: 0.9453621346886912\n"
        }
      ],
      "execution_count": 57
    },
    {
      "id": "5c909a01-7ab1-4e8c-9679-ed7d61e13347",
      "cell_type": "code",
      "source": "print('accuracy on taining data : ', training_data_accuracy)",
      "metadata": {
        "trusted": true
      },
      "outputs": [
        {
          "name": "stdout",
          "output_type": "stream",
          "text": "accuracy on taining data :  0.9453621346886912\n"
        }
      ],
      "execution_count": 58
    },
    {
      "id": "5e875aec-74dd-4919-806d-cc32af1f6b58",
      "cell_type": "code",
      "source": "# Accuracy Score on test data\nX_test_prediction = pipeline.predict(X_test)\ntest_data_accuracy = accuracy_score(Y_test, X_test_prediction)\n",
      "metadata": {
        "trusted": true
      },
      "outputs": [],
      "execution_count": 60
    },
    {
      "id": "d62d1c62-b7d6-48b8-bcda-79b522d64075",
      "cell_type": "code",
      "source": "print('accuracy on test data : ', test_data_accuracy)",
      "metadata": {
        "trusted": true
      },
      "outputs": [
        {
          "name": "stdout",
          "output_type": "stream",
          "text": "accuracy on test data :  0.9390862944162437\n"
        }
      ],
      "execution_count": 61
    },
    {
      "id": "6423c86a-d9b9-42c2-a124-d991381a67ef",
      "cell_type": "code",
      "source": "#if the value of taining data is greater than test data than --->overfitting model\n#opposite of above ---->under fitting",
      "metadata": {
        "trusted": true
      },
      "outputs": [],
      "execution_count": 62
    },
    {
      "id": "89945559-1a22-480c-9685-a36d2d172e0f",
      "cell_type": "code",
      "source": "print(credit_card_data.isnull())",
      "metadata": {
        "trusted": true
      },
      "outputs": [
        {
          "name": "stdout",
          "output_type": "stream",
          "text": "         Time     V1     V2     V3     V4     V5     V6     V7     V8     V9  \\\n0       False  False  False  False  False  False  False  False  False  False   \n1       False  False  False  False  False  False  False  False  False  False   \n2       False  False  False  False  False  False  False  False  False  False   \n3       False  False  False  False  False  False  False  False  False  False   \n4       False  False  False  False  False  False  False  False  False  False   \n...       ...    ...    ...    ...    ...    ...    ...    ...    ...    ...   \n284802  False  False  False  False  False  False  False  False  False  False   \n284803  False  False  False  False  False  False  False  False  False  False   \n284804  False  False  False  False  False  False  False  False  False  False   \n284805  False  False  False  False  False  False  False  False  False  False   \n284806  False  False  False  False  False  False  False  False  False  False   \n\n        ...    V21    V22    V23    V24    V25    V26    V27    V28  Amount  \\\n0       ...  False  False  False  False  False  False  False  False   False   \n1       ...  False  False  False  False  False  False  False  False   False   \n2       ...  False  False  False  False  False  False  False  False   False   \n3       ...  False  False  False  False  False  False  False  False   False   \n4       ...  False  False  False  False  False  False  False  False   False   \n...     ...    ...    ...    ...    ...    ...    ...    ...    ...     ...   \n284802  ...  False  False  False  False  False  False  False  False   False   \n284803  ...  False  False  False  False  False  False  False  False   False   \n284804  ...  False  False  False  False  False  False  False  False   False   \n284805  ...  False  False  False  False  False  False  False  False   False   \n284806  ...  False  False  False  False  False  False  False  False   False   \n\n        Class  \n0       False  \n1       False  \n2       False  \n3       False  \n4       False  \n...       ...  \n284802  False  \n284803  False  \n284804  False  \n284805  False  \n284806  False  \n\n[284807 rows x 31 columns]\n"
        }
      ],
      "execution_count": 63
    },
    {
      "id": "c5a77d75-6bdc-43d2-8097-b8ed17bf2d76",
      "cell_type": "code",
      "source": "print(credit_card_data.isnull().sum())",
      "metadata": {
        "trusted": true
      },
      "outputs": [
        {
          "name": "stdout",
          "output_type": "stream",
          "text": "Time      0\nV1        0\nV2        0\nV3        0\nV4        0\nV5        0\nV6        0\nV7        0\nV8        0\nV9        0\nV10       0\nV11       0\nV12       0\nV13       0\nV14       0\nV15       0\nV16       0\nV17       0\nV18       0\nV19       0\nV20       0\nV21       0\nV22       0\nV23       0\nV24       0\nV25       0\nV26       0\nV27       0\nV28       0\nAmount    0\nClass     0\ndtype: int64\n"
        }
      ],
      "execution_count": 64
    },
    {
      "id": "14bc635b-6eb9-491e-a4db-93c43e97e34b",
      "cell_type": "code",
      "source": "cleaned_data=credit_card_data.dropna()\nprint(cleaned_data)",
      "metadata": {
        "trusted": true
      },
      "outputs": [
        {
          "name": "stdout",
          "output_type": "stream",
          "text": "            Time         V1         V2        V3        V4        V5  \\\n0            0.0  -1.359807  -0.072781  2.536347  1.378155 -0.338321   \n1            0.0   1.191857   0.266151  0.166480  0.448154  0.060018   \n2            1.0  -1.358354  -1.340163  1.773209  0.379780 -0.503198   \n3            1.0  -0.966272  -0.185226  1.792993 -0.863291 -0.010309   \n4            2.0  -1.158233   0.877737  1.548718  0.403034 -0.407193   \n...          ...        ...        ...       ...       ...       ...   \n284802  172786.0 -11.881118  10.071785 -9.834783 -2.066656 -5.364473   \n284803  172787.0  -0.732789  -0.055080  2.035030 -0.738589  0.868229   \n284804  172788.0   1.919565  -0.301254 -3.249640 -0.557828  2.630515   \n284805  172788.0  -0.240440   0.530483  0.702510  0.689799 -0.377961   \n284806  172792.0  -0.533413  -0.189733  0.703337 -0.506271 -0.012546   \n\n              V6        V7        V8        V9  ...       V21       V22  \\\n0       0.462388  0.239599  0.098698  0.363787  ... -0.018307  0.277838   \n1      -0.082361 -0.078803  0.085102 -0.255425  ... -0.225775 -0.638672   \n2       1.800499  0.791461  0.247676 -1.514654  ...  0.247998  0.771679   \n3       1.247203  0.237609  0.377436 -1.387024  ... -0.108300  0.005274   \n4       0.095921  0.592941 -0.270533  0.817739  ... -0.009431  0.798278   \n...          ...       ...       ...       ...  ...       ...       ...   \n284802 -2.606837 -4.918215  7.305334  1.914428  ...  0.213454  0.111864   \n284803  1.058415  0.024330  0.294869  0.584800  ...  0.214205  0.924384   \n284804  3.031260 -0.296827  0.708417  0.432454  ...  0.232045  0.578229   \n284805  0.623708 -0.686180  0.679145  0.392087  ...  0.265245  0.800049   \n284806 -0.649617  1.577006 -0.414650  0.486180  ...  0.261057  0.643078   \n\n             V23       V24       V25       V26       V27       V28  Amount  \\\n0      -0.110474  0.066928  0.128539 -0.189115  0.133558 -0.021053  149.62   \n1       0.101288 -0.339846  0.167170  0.125895 -0.008983  0.014724    2.69   \n2       0.909412 -0.689281 -0.327642 -0.139097 -0.055353 -0.059752  378.66   \n3      -0.190321 -1.175575  0.647376 -0.221929  0.062723  0.061458  123.50   \n4      -0.137458  0.141267 -0.206010  0.502292  0.219422  0.215153   69.99   \n...          ...       ...       ...       ...       ...       ...     ...   \n284802  1.014480 -0.509348  1.436807  0.250034  0.943651  0.823731    0.77   \n284803  0.012463 -1.016226 -0.606624 -0.395255  0.068472 -0.053527   24.79   \n284804 -0.037501  0.640134  0.265745 -0.087371  0.004455 -0.026561   67.88   \n284805 -0.163298  0.123205 -0.569159  0.546668  0.108821  0.104533   10.00   \n284806  0.376777  0.008797 -0.473649 -0.818267 -0.002415  0.013649  217.00   \n\n        Class  \n0           0  \n1           0  \n2           0  \n3           0  \n4           0  \n...       ...  \n284802      0  \n284803      0  \n284804      0  \n284805      0  \n284806      0  \n\n[284807 rows x 31 columns]\n"
        }
      ],
      "execution_count": 65
    }
  ]
}