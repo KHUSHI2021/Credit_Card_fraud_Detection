{
  "metadata": {
    "kernelspec": {
      "name": "python",
      "display_name": "Python (Pyodide)",
      "language": "python"
    },
    "language_info": {
      "codemirror_mode": {
        "name": "python",
        "version": 3
      },
      "file_extension": ".py",
      "mimetype": "text/x-python",
      "name": "python",
      "nbconvert_exporter": "python",
      "pygments_lexer": "ipython3",
      "version": "3.8"
    }
  },
  "nbformat_minor": 5,
  "nbformat": 4,
  "cells": [
    {
      "id": "930aff7c-58e1-4f4c-90fd-8585744e1ca1",
      "cell_type": "code",
      "source": "# import all dependencies \nimport numpy as np\nimport pandas as pd\nfrom sklearn.model_selection import train_test_split\nfrom sklearn.preprocessing import StandardScaler\nfrom sklearn.linear_model import LogisticRegression \nfrom sklearn.pipeline import make_pipeline\nfrom sklearn.metrics import accuracy_score",
      "metadata": {
        "trusted": true
      },
      "outputs": [],
      "execution_count": null
    },
    {
      "id": "e67ba022-361e-4efe-8b81-114479355fcb",
      "cell_type": "code",
      "source": "# loading dataset to the pandas data frame\ncredit_card_data = pd.read_csv('creditcard.csv')\n",
      "metadata": {
        "trusted": true
      },
      "outputs": [],
      "execution_count": null
    },
    {
      "id": "fb34a33f-0a87-4f17-8376-2ad2697d5b94",
      "cell_type": "code",
      "source": "# 1st five rows od dataset\ncredit_card_data.head()",
      "metadata": {
        "trusted": true
      },
      "outputs": [],
      "execution_count": null
    },
    {
      "id": "fc80ab77-3c73-4640-9b76-07d99008fd16",
      "cell_type": "code",
      "source": "credit_card_data.tail()",
      "metadata": {
        "trusted": true
      },
      "outputs": [],
      "execution_count": null
    },
    {
      "id": "317b55bb-94ac-41aa-994b-b9064714877f",
      "cell_type": "code",
      "source": "credit_card_data['Class'].value_counts()",
      "metadata": {
        "trusted": true
      },
      "outputs": [],
      "execution_count": null
    },
    {
      "id": "94ff601e-bf24-4d03-b4d8-e6322a41ae3e",
      "cell_type": "code",
      "source": "credit_card_data['Amount'].sum()",
      "metadata": {
        "trusted": true
      },
      "outputs": [],
      "execution_count": null
    },
    {
      "id": "cf14bbb0-c732-4f0a-89bf-7b6cde565a91",
      "cell_type": "code",
      "source": "#separating the data for analysis\nlegit=credit_card_data[credit_card_data.Class==0]\nfraud=credit_card_data[credit_card_data.Class==1]",
      "metadata": {
        "trusted": true
      },
      "outputs": [],
      "execution_count": null
    },
    {
      "id": "ca9b9d0e-44af-41ab-9e0e-e612ae9ec2a3",
      "cell_type": "code",
      "source": "print(legit.shape)\nprint(fraud.shape)",
      "metadata": {
        "trusted": true
      },
      "outputs": [],
      "execution_count": null
    },
    {
      "id": "85145824-2c60-4300-9971-e17c8e356c74",
      "cell_type": "code",
      "source": "# satatistical measure of the data\nlegit.Amount.describe()",
      "metadata": {
        "trusted": true
      },
      "outputs": [],
      "execution_count": null
    },
    {
      "id": "15e47374-6999-4396-9c50-b797b297f467",
      "cell_type": "code",
      "source": "#compare the values\ncredit_card_data.groupby('Class').mean()",
      "metadata": {
        "trusted": true
      },
      "outputs": [],
      "execution_count": null
    },
    {
      "id": "b2367575-29c5-4236-b1fe-8e2678a0be7f",
      "cell_type": "code",
      "source": "#under sampling building data set for similar distribution of both legit and fraud\n\nlegit_sample=legit.sample(n=492)",
      "metadata": {
        "trusted": true
      },
      "outputs": [],
      "execution_count": null
    },
    {
      "id": "780b8f4a-c37f-4150-8789-12abb095c1a4",
      "cell_type": "code",
      "source": "new_dataset=pd.concat([legit_sample,fraud],axis=0)  #0--> for concate row wise",
      "metadata": {
        "trusted": true
      },
      "outputs": [],
      "execution_count": null
    },
    {
      "id": "ac48814b-f3f2-418b-b3b3-a06e61ce6801",
      "cell_type": "code",
      "source": "new_dataset.head()\n",
      "metadata": {
        "trusted": true
      },
      "outputs": [],
      "execution_count": null
    },
    {
      "id": "b97473bc-f76b-436b-ae8a-77e7b03c27a6",
      "cell_type": "code",
      "source": "new_dataset['Class'].value_counts()",
      "metadata": {
        "trusted": true
      },
      "outputs": [],
      "execution_count": null
    },
    {
      "id": "4674f4d1-ae8c-447c-b886-a816b0c304f4",
      "cell_type": "code",
      "source": "new_dataset.groupby('Class').mean()",
      "metadata": {
        "trusted": true
      },
      "outputs": [],
      "execution_count": null
    },
    {
      "id": "391435b1-eded-4dda-81b5-2aa3bed0ecac",
      "cell_type": "code",
      "source": "# splitting the data into feature and targets \nX=new_dataset.drop(columns ='Class' ,axis=1)\nY=new_dataset['Class']",
      "metadata": {
        "trusted": true
      },
      "outputs": [],
      "execution_count": null
    },
    {
      "id": "c887ea15-4b6a-43d4-bb1d-e1e19c7a6aad",
      "cell_type": "code",
      "source": "print(X)",
      "metadata": {
        "trusted": true
      },
      "outputs": [],
      "execution_count": null
    },
    {
      "id": "fd68341f-7868-4410-98e4-8007a2c1c23e",
      "cell_type": "code",
      "source": "print(Y)",
      "metadata": {
        "trusted": true
      },
      "outputs": [],
      "execution_count": null
    },
    {
      "id": "1179f3f6-0443-45a1-a879-fb95e3ee1956",
      "cell_type": "code",
      "source": "#splitting your dataset into training and testing\nX_train ,X_test, Y_train , Y_test =train_test_split(X,Y,test_size=0.2,stratify=Y,random_state=2)",
      "metadata": {
        "trusted": true
      },
      "outputs": [],
      "execution_count": null
    },
    {
      "id": "1b2028b6-7041-4bd2-a6c1-d040f3157a6d",
      "cell_type": "code",
      "source": "print(X.shape,X_train,X_test.shape)",
      "metadata": {
        "trusted": true
      },
      "outputs": [],
      "execution_count": null
    },
    {
      "id": "271a8587-eda8-4655-b423-3312e7edf7d0",
      "cell_type": "code",
      "source": "#model training/logisticsRegression\nmodel=LogisticRegression()",
      "metadata": {
        "trusted": true
      },
      "outputs": [],
      "execution_count": null
    },
    {
      "id": "3c01c449-f306-4780-a254-d7f98d2d2e04",
      "cell_type": "code",
      "source": "\n#model.fit(X_train,Y_train)\npipeline = make_pipeline(StandardScaler(), LogisticRegression(max_iter=1000, random_state=42))\npipeline.fit(X_train, Y_train)",
      "metadata": {
        "trusted": true
      },
      "outputs": [],
      "execution_count": null
    },
    {
      "id": "4258380a-ae30-4138-9065-69e135d319ca",
      "cell_type": "code",
      "source": "#Accuracy Score on training data\nX_train_prediction=model.predict(X_train)\ntraining_data_accuracy=accuracy_score(X_train_prediction,Y_train)\n",
      "metadata": {
        "trusted": true
      },
      "outputs": [],
      "execution_count": null
    },
    {
      "id": "5c909a01-7ab1-4e8c-9679-ed7d61e13347",
      "cell_type": "code",
      "source": "print('accuracy on taining data : ', training_data_accuracy)",
      "metadata": {
        "trusted": true
      },
      "outputs": [],
      "execution_count": null
    },
    {
      "id": "5e875aec-74dd-4919-806d-cc32af1f6b58",
      "cell_type": "code",
      "source": "X_test_prediction=model.predict(X_test)\ntest_data_accuracy=accuracy_score(X_test_prediction,Y_test)",
      "metadata": {
        "trusted": true
      },
      "outputs": [],
      "execution_count": null
    },
    {
      "id": "d62d1c62-b7d6-48b8-bcda-79b522d64075",
      "cell_type": "code",
      "source": "print('accuracy on test data : ', test_data_accuracy)",
      "metadata": {
        "trusted": true
      },
      "outputs": [],
      "execution_count": null
    },
    {
      "id": "6423c86a-d9b9-42c2-a124-d991381a67ef",
      "cell_type": "code",
      "source": "#if the value of taining data is greater than test data than --->overfitting model\n#opposite of above ---->under fitting",
      "metadata": {
        "trusted": true
      },
      "outputs": [],
      "execution_count": null
    },
    {
      "id": "89945559-1a22-480c-9685-a36d2d172e0f",
      "cell_type": "code",
      "source": "print(credit_card_data.isnull())",
      "metadata": {
        "trusted": true
      },
      "outputs": [],
      "execution_count": null
    },
    {
      "id": "c5a77d75-6bdc-43d2-8097-b8ed17bf2d76",
      "cell_type": "code",
      "source": "print(credit_card_data.isnull().sum())",
      "metadata": {
        "trusted": true
      },
      "outputs": [],
      "execution_count": null
    },
    {
      "id": "14bc635b-6eb9-491e-a4db-93c43e97e34b",
      "cell_type": "code",
      "source": "cleaned_data=credit_card_data.dropna()\nprint(cleaned_data)",
      "metadata": {
        "trusted": true
      },
      "outputs": [],
      "execution_count": null
    }
  ]
}